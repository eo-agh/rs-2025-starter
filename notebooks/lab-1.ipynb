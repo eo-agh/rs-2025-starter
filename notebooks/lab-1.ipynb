{
 "cells": [
  {
   "cell_type": "markdown",
   "id": "6a35dba3",
   "metadata": {},
   "source": [
    "# Laboratory Exercise 1: Introduction to Google Earth Engine (GEE)\n",
    "In this lab, you will learn how to initialize Google Earth Engine (GEE), select satellite images, visualize data, and analyze basic metadata."
   ]
  },
  {
   "cell_type": "markdown",
   "id": "1c5f6c68",
   "metadata": {},
   "source": [
    "## Task 1: Initialize Google Earth Engine\n",
    "Authenticate and initialize the Google Earth Engine (GEE) API."
   ]
  },
  {
   "cell_type": "code",
   "execution_count": 5,
   "id": "2dbfdbda",
   "metadata": {},
   "outputs": [],
   "source": [
    "# Authenticate and initialize GEE\n",
    "# TODO: Use the Earth Engine library to authenticate and initialize your session\n",
    "#import ee\n",
    "#ee.Authenticate()\n",
    "ee.Initialize(project='ee-kkosciukk')\n"
   ]
  },
  {
   "cell_type": "markdown",
   "id": "7b7d36d4",
   "metadata": {},
   "source": [
    "## Task 2: Define Area of Interest (AOI)\n",
    "Define your area of interest (AOI). You can use either a point or a bounding box.\n",
    "Example coordinates are provided below (Krakow, Poland). Adjust them for your location."
   ]
  },
  {
   "cell_type": "code",
   "execution_count": 7,
   "id": "75f06d59",
   "metadata": {},
   "outputs": [],
   "source": [
    "# Define AOI\n",
    "# TODO: Replace with your coordinates\n",
    "#aoi = ee.Geometry.Point([19.9383, 50.0614])  # Example: Krakow\n",
    "# or\n",
    "aoi = ee.Geometry.Rectangle([22.402140, 49.300600, 22.544340, 49.435930])"
   ]
  },
  {
   "cell_type": "markdown",
   "id": "fc029d60",
   "metadata": {},
   "source": [
    "## Task 3: Retrieve Sentinel-2 Data\n",
    "Retrieve Sentinel-2 imagery for your defined AOI within a specific date range. Sort the images based on cloud cover percentage."
   ]
  },
  {
   "cell_type": "code",
   "execution_count": null,
   "id": "5e08ded8",
   "metadata": {},
   "outputs": [
    {
     "name": "stdout",
     "output_type": "stream",
     "text": [
      "{'type': 'Image', 'bands': [{'id': 'B1', 'data_type': {'type': 'PixelType', 'precision': 'int', 'min': 0, 'max': 65535}, 'dimensions': [1830, 1830], 'crs': 'EPSG:32634', 'crs_transform': [60, 0, 499980, 0, -60, 5500020]}, {'id': 'B2', 'data_type': {'type': 'PixelType', 'precision': 'int', 'min': 0, 'max': 65535}, 'dimensions': [10980, 10980], 'crs': 'EPSG:32634', 'crs_transform': [10, 0, 499980, 0, -10, 5500020]}, {'id': 'B3', 'data_type': {'type': 'PixelType', 'precision': 'int', 'min': 0, 'max': 65535}, 'dimensions': [10980, 10980], 'crs': 'EPSG:32634', 'crs_transform': [10, 0, 499980, 0, -10, 5500020]}, {'id': 'B4', 'data_type': {'type': 'PixelType', 'precision': 'int', 'min': 0, 'max': 65535}, 'dimensions': [10980, 10980], 'crs': 'EPSG:32634', 'crs_transform': [10, 0, 499980, 0, -10, 5500020]}, {'id': 'B5', 'data_type': {'type': 'PixelType', 'precision': 'int', 'min': 0, 'max': 65535}, 'dimensions': [5490, 5490], 'crs': 'EPSG:32634', 'crs_transform': [20, 0, 499980, 0, -20, 5500020]}, {'id': 'B6', 'data_type': {'type': 'PixelType', 'precision': 'int', 'min': 0, 'max': 65535}, 'dimensions': [5490, 5490], 'crs': 'EPSG:32634', 'crs_transform': [20, 0, 499980, 0, -20, 5500020]}, {'id': 'B7', 'data_type': {'type': 'PixelType', 'precision': 'int', 'min': 0, 'max': 65535}, 'dimensions': [5490, 5490], 'crs': 'EPSG:32634', 'crs_transform': [20, 0, 499980, 0, -20, 5500020]}, {'id': 'B8', 'data_type': {'type': 'PixelType', 'precision': 'int', 'min': 0, 'max': 65535}, 'dimensions': [10980, 10980], 'crs': 'EPSG:32634', 'crs_transform': [10, 0, 499980, 0, -10, 5500020]}, {'id': 'B8A', 'data_type': {'type': 'PixelType', 'precision': 'int', 'min': 0, 'max': 65535}, 'dimensions': [5490, 5490], 'crs': 'EPSG:32634', 'crs_transform': [20, 0, 499980, 0, -20, 5500020]}, {'id': 'B9', 'data_type': {'type': 'PixelType', 'precision': 'int', 'min': 0, 'max': 65535}, 'dimensions': [1830, 1830], 'crs': 'EPSG:32634', 'crs_transform': [60, 0, 499980, 0, -60, 5500020]}, {'id': 'B10', 'data_type': {'type': 'PixelType', 'precision': 'int', 'min': 0, 'max': 65535}, 'dimensions': [1830, 1830], 'crs': 'EPSG:32634', 'crs_transform': [60, 0, 499980, 0, -60, 5500020]}, {'id': 'B11', 'data_type': {'type': 'PixelType', 'precision': 'int', 'min': 0, 'max': 65535}, 'dimensions': [5490, 5490], 'crs': 'EPSG:32634', 'crs_transform': [20, 0, 499980, 0, -20, 5500020]}, {'id': 'B12', 'data_type': {'type': 'PixelType', 'precision': 'int', 'min': 0, 'max': 65535}, 'dimensions': [5490, 5490], 'crs': 'EPSG:32634', 'crs_transform': [20, 0, 499980, 0, -20, 5500020]}, {'id': 'QA10', 'data_type': {'type': 'PixelType', 'precision': 'int', 'min': 0, 'max': 65535}, 'crs': 'EPSG:4326', 'crs_transform': [1, 0, 0, 0, 1, 0]}, {'id': 'QA20', 'data_type': {'type': 'PixelType', 'precision': 'int', 'min': 0, 'max': 4294967295}, 'crs': 'EPSG:4326', 'crs_transform': [1, 0, 0, 0, 1, 0]}, {'id': 'QA60', 'data_type': {'type': 'PixelType', 'precision': 'int', 'min': 0, 'max': 65535}, 'dimensions': [1830, 1830], 'crs': 'EPSG:32634', 'crs_transform': [60, 0, 499980, 0, -60, 5500020]}, {'id': 'MSK_CLASSI_OPAQUE', 'data_type': {'type': 'PixelType', 'precision': 'int', 'min': 0, 'max': 255}, 'dimensions': [1830, 1830], 'crs': 'EPSG:32634', 'crs_transform': [60, 0, 499980, 0, -60, 5500020]}, {'id': 'MSK_CLASSI_CIRRUS', 'data_type': {'type': 'PixelType', 'precision': 'int', 'min': 0, 'max': 255}, 'dimensions': [1830, 1830], 'crs': 'EPSG:32634', 'crs_transform': [60, 0, 499980, 0, -60, 5500020]}, {'id': 'MSK_CLASSI_SNOW_ICE', 'data_type': {'type': 'PixelType', 'precision': 'int', 'min': 0, 'max': 255}, 'dimensions': [1830, 1830], 'crs': 'EPSG:32634', 'crs_transform': [60, 0, 499980, 0, -60, 5500020]}], 'version': 1742389444698657, 'id': 'COPERNICUS/S2_HARMONIZED/20240727T094031_20240727T094033_T34UEV', 'properties': {'DATATAKE_IDENTIFIER': 'GS2A_20240727T094031_047509_N05.11', 'SPACECRAFT_NAME': 'Sentinel-2A', 'RADIO_ADD_OFFSET_B8A': -1000, 'MEAN_INCIDENCE_AZIMUTH_ANGLE_B8A': 284.513488730886, 'RADIO_ADD_OFFSET_B10': -1000, 'MEAN_SOLAR_AZIMUTH_ANGLE': 156.011983549842, 'system:footprint': {'type': 'LinearRing', 'coordinates': [[20.99958499475833, 49.65273403837692], [20.999583976028518, 49.652722839177905], [20.99959211465339, 48.66521129907199], [20.99964755210931, 48.66516988025154], [20.99969457351541, 48.66512414623001], [20.99971692696618, 48.66512133035162], [22.490400771805255, 48.65547875386844], [22.490464608967986, 48.65551450139226], [22.490534726511957, 48.65554469363205], [22.49053945100474, 48.65555941834387], [22.50529438600682, 49.14917584644528], [22.520457653977417, 49.642738918304836], [22.520402491207495, 49.642781088210604], [22.520355906557757, 49.64282740123727], [22.520333153394883, 49.642830500021454], [20.999722954473345, 49.652812797675296], [20.999658919548782, 49.65277626526334], [20.99958828913755, 49.652745132055344], [20.99958499475833, 49.65273403837692]]}, 'SOLAR_IRRADIANCE_B12': 85.25, 'SOLAR_IRRADIANCE_B10': 367.15, 'SENSOR_QUALITY': 'PASSED', 'SOLAR_IRRADIANCE_B11': 245.59, 'GENERATION_TIME': 1722080516000, 'RADIO_ADD_OFFSET_B12': -1000, 'RADIO_ADD_OFFSET_B11': -1000, 'SOLAR_IRRADIANCE_B8A': 955.32, 'FORMAT_CORRECTNESS': 'PASSED', 'CLOUD_COVERAGE_ASSESSMENT': 0.046194272746, 'system:time_end': 1722073616438, 'SNOW_PIXEL_PERCENTAGE': 0, 'system:time_start': 1722073616438, 'RADIO_ADD_OFFSET_B1': -1000, 'RADIO_ADD_OFFSET_B2': -1000, 'DATASTRIP_ID': 'S2A_OPER_MSI_L1C_DS_2APS_20240727T114156_S20240727T094033_N05.11', 'RADIO_ADD_OFFSET_B3': -1000, 'RADIO_ADD_OFFSET_B4': -1000, 'RADIO_ADD_OFFSET_B5': -1000, 'PROCESSING_BASELINE': '05.11', 'SENSING_ORBIT_NUMBER': 36, 'RADIO_ADD_OFFSET_B6': -1000, 'RADIO_ADD_OFFSET_B7': -1000, 'SENSING_ORBIT_DIRECTION': 'DESCENDING', 'GENERAL_QUALITY': 'PASSED', 'GRANULE_ID': 'L1C_T34UEV_A047509_20240727T094033', 'REFLECTANCE_CONVERSION_CORRECTION': 0.969038498070894, 'MEAN_INCIDENCE_AZIMUTH_ANGLE_B8': 284.251178498374, 'DATATAKE_TYPE': 'INS-NOBS', 'MEAN_INCIDENCE_AZIMUTH_ANGLE_B9': 284.604784358782, 'MEAN_INCIDENCE_AZIMUTH_ANGLE_B6': 284.36953522961, 'MEAN_INCIDENCE_AZIMUTH_ANGLE_B7': 284.429347180314, 'MEAN_INCIDENCE_AZIMUTH_ANGLE_B4': 284.268273278529, 'MEAN_INCIDENCE_ZENITH_ANGLE_B1': 5.95749507301471, 'RADIO_ADD_OFFSET_B8': -1000, 'MEAN_INCIDENCE_AZIMUTH_ANGLE_B5': 284.300939328895, 'RADIOMETRIC_QUALITY': 'PASSED', 'RADIO_ADD_OFFSET_B9': -1000, 'MEAN_INCIDENCE_AZIMUTH_ANGLE_B2': 284.314597795613, 'MEAN_INCIDENCE_AZIMUTH_ANGLE_B3': 284.229886868701, 'MEAN_INCIDENCE_ZENITH_ANGLE_B5': 5.7725977518214, 'MEAN_INCIDENCE_AZIMUTH_ANGLE_B1': 284.520601817062, 'MEAN_INCIDENCE_ZENITH_ANGLE_B4': 5.73517938944152, 'MEAN_INCIDENCE_ZENITH_ANGLE_B3': 5.67646854880574, 'MEAN_INCIDENCE_ZENITH_ANGLE_B2': 5.6247214247259, 'MEAN_INCIDENCE_ZENITH_ANGLE_B9': 6.01283577291581, 'MEAN_INCIDENCE_ZENITH_ANGLE_B8': 5.65028990698401, 'MEAN_INCIDENCE_ZENITH_ANGLE_B7': 5.85807984635187, 'MEAN_INCIDENCE_ZENITH_ANGLE_B6': 5.81349739372685, 'MEAN_SOLAR_ZENITH_ANGLE': 31.9088202266542, 'MEAN_INCIDENCE_ZENITH_ANGLE_B8A': 5.90578635341265, 'MGRS_TILE': '34UEV', 'CLOUDY_PIXEL_PERCENTAGE': 0.0461942727462749, 'PRODUCT_ID': 'S2A_MSIL1C_20240727T094031_N0511_R036_T34UEV_20240727T114156', 'MEAN_INCIDENCE_ZENITH_ANGLE_B10': 5.70606993297585, 'SOLAR_IRRADIANCE_B9': 812.92, 'DEGRADED_MSI_DATA_PERCENTAGE': 0.022, 'MEAN_INCIDENCE_ZENITH_ANGLE_B11': 5.79649838059497, 'MEAN_INCIDENCE_ZENITH_ANGLE_B12': 5.90358467973456, 'SOLAR_IRRADIANCE_B6': 1287.61, 'MEAN_INCIDENCE_AZIMUTH_ANGLE_B10': 284.162419303037, 'SOLAR_IRRADIANCE_B5': 1424.64, 'MEAN_INCIDENCE_AZIMUTH_ANGLE_B11': 284.298132489816, 'SOLAR_IRRADIANCE_B8': 1041.63, 'MEAN_INCIDENCE_AZIMUTH_ANGLE_B12': 284.482698499725, 'SOLAR_IRRADIANCE_B7': 1162.08, 'SOLAR_IRRADIANCE_B2': 1959.66, 'SOLAR_IRRADIANCE_B1': 1884.69, 'SOLAR_IRRADIANCE_B4': 1512.06, 'GEOMETRIC_QUALITY': 'PASSED', 'SOLAR_IRRADIANCE_B3': 1823.24, 'system:asset_size': 1241962328, 'system:index': '20240727T094031_20240727T094033_T34UEV'}}\n"
     ]
    }
   ],
   "source": [
    "# Retrieve Sentinel-2 Data\n",
    "# TODO: Adjust the date range and retrieve the least cloudy Sentinel-2 image\n",
    "sentinel2 = ee.ImageCollection('COPERNICUS/S2_HARMONIZED') \\\n",
    "    .filterDate('2024-07-01', '2024-09-30') \\\n",
    "    .filterBounds(aoi) \\\n",
    "    .sort('CLOUDY_PIXEL_PERCENTAGE')  # Sort by cloud cover percentage\n",
    "\n",
    "# Select the least cloudy image\n",
    "image = sentinel2.first()\n",
    "\n",
    "# Retrieve metadata of the selected image\n",
    "metadata = image.getInfo()\n",
    "\n"
   ]
  },
  {
   "cell_type": "markdown",
   "id": "8024b605",
   "metadata": {},
   "source": [
    "## Task 4: Extract Image Metadata\n",
    "Extract and print metadata from the selected image, such as ID, cloud cover percentage, mean solar azimuth and zenith angles, and processing level."
   ]
  },
  {
   "cell_type": "code",
   "execution_count": 18,
   "id": "14d34b82",
   "metadata": {},
   "outputs": [
    {
     "name": "stdout",
     "output_type": "stream",
     "text": [
      "{'type': 'Image', 'bands': [{'id': 'B1', 'data_type': {'type': 'PixelType', 'precision': 'int', 'min': 0, 'max': 65535}, 'dimensions': [1830, 1830], 'crs': 'EPSG:32634', 'crs_transform': [60, 0, 499980, 0, -60, 5500020]}, {'id': 'B2', 'data_type': {'type': 'PixelType', 'precision': 'int', 'min': 0, 'max': 65535}, 'dimensions': [10980, 10980], 'crs': 'EPSG:32634', 'crs_transform': [10, 0, 499980, 0, -10, 5500020]}, {'id': 'B3', 'data_type': {'type': 'PixelType', 'precision': 'int', 'min': 0, 'max': 65535}, 'dimensions': [10980, 10980], 'crs': 'EPSG:32634', 'crs_transform': [10, 0, 499980, 0, -10, 5500020]}, {'id': 'B4', 'data_type': {'type': 'PixelType', 'precision': 'int', 'min': 0, 'max': 65535}, 'dimensions': [10980, 10980], 'crs': 'EPSG:32634', 'crs_transform': [10, 0, 499980, 0, -10, 5500020]}, {'id': 'B5', 'data_type': {'type': 'PixelType', 'precision': 'int', 'min': 0, 'max': 65535}, 'dimensions': [5490, 5490], 'crs': 'EPSG:32634', 'crs_transform': [20, 0, 499980, 0, -20, 5500020]}, {'id': 'B6', 'data_type': {'type': 'PixelType', 'precision': 'int', 'min': 0, 'max': 65535}, 'dimensions': [5490, 5490], 'crs': 'EPSG:32634', 'crs_transform': [20, 0, 499980, 0, -20, 5500020]}, {'id': 'B7', 'data_type': {'type': 'PixelType', 'precision': 'int', 'min': 0, 'max': 65535}, 'dimensions': [5490, 5490], 'crs': 'EPSG:32634', 'crs_transform': [20, 0, 499980, 0, -20, 5500020]}, {'id': 'B8', 'data_type': {'type': 'PixelType', 'precision': 'int', 'min': 0, 'max': 65535}, 'dimensions': [10980, 10980], 'crs': 'EPSG:32634', 'crs_transform': [10, 0, 499980, 0, -10, 5500020]}, {'id': 'B8A', 'data_type': {'type': 'PixelType', 'precision': 'int', 'min': 0, 'max': 65535}, 'dimensions': [5490, 5490], 'crs': 'EPSG:32634', 'crs_transform': [20, 0, 499980, 0, -20, 5500020]}, {'id': 'B9', 'data_type': {'type': 'PixelType', 'precision': 'int', 'min': 0, 'max': 65535}, 'dimensions': [1830, 1830], 'crs': 'EPSG:32634', 'crs_transform': [60, 0, 499980, 0, -60, 5500020]}, {'id': 'B10', 'data_type': {'type': 'PixelType', 'precision': 'int', 'min': 0, 'max': 65535}, 'dimensions': [1830, 1830], 'crs': 'EPSG:32634', 'crs_transform': [60, 0, 499980, 0, -60, 5500020]}, {'id': 'B11', 'data_type': {'type': 'PixelType', 'precision': 'int', 'min': 0, 'max': 65535}, 'dimensions': [5490, 5490], 'crs': 'EPSG:32634', 'crs_transform': [20, 0, 499980, 0, -20, 5500020]}, {'id': 'B12', 'data_type': {'type': 'PixelType', 'precision': 'int', 'min': 0, 'max': 65535}, 'dimensions': [5490, 5490], 'crs': 'EPSG:32634', 'crs_transform': [20, 0, 499980, 0, -20, 5500020]}, {'id': 'QA10', 'data_type': {'type': 'PixelType', 'precision': 'int', 'min': 0, 'max': 65535}, 'crs': 'EPSG:4326', 'crs_transform': [1, 0, 0, 0, 1, 0]}, {'id': 'QA20', 'data_type': {'type': 'PixelType', 'precision': 'int', 'min': 0, 'max': 4294967295}, 'crs': 'EPSG:4326', 'crs_transform': [1, 0, 0, 0, 1, 0]}, {'id': 'QA60', 'data_type': {'type': 'PixelType', 'precision': 'int', 'min': 0, 'max': 65535}, 'dimensions': [1830, 1830], 'crs': 'EPSG:32634', 'crs_transform': [60, 0, 499980, 0, -60, 5500020]}, {'id': 'MSK_CLASSI_OPAQUE', 'data_type': {'type': 'PixelType', 'precision': 'int', 'min': 0, 'max': 255}, 'dimensions': [1830, 1830], 'crs': 'EPSG:32634', 'crs_transform': [60, 0, 499980, 0, -60, 5500020]}, {'id': 'MSK_CLASSI_CIRRUS', 'data_type': {'type': 'PixelType', 'precision': 'int', 'min': 0, 'max': 255}, 'dimensions': [1830, 1830], 'crs': 'EPSG:32634', 'crs_transform': [60, 0, 499980, 0, -60, 5500020]}, {'id': 'MSK_CLASSI_SNOW_ICE', 'data_type': {'type': 'PixelType', 'precision': 'int', 'min': 0, 'max': 255}, 'dimensions': [1830, 1830], 'crs': 'EPSG:32634', 'crs_transform': [60, 0, 499980, 0, -60, 5500020]}], 'version': 1742389444698657, 'id': 'COPERNICUS/S2_HARMONIZED/20240727T094031_20240727T094033_T34UEV', 'properties': {'DATATAKE_IDENTIFIER': 'GS2A_20240727T094031_047509_N05.11', 'SPACECRAFT_NAME': 'Sentinel-2A', 'RADIO_ADD_OFFSET_B8A': -1000, 'MEAN_INCIDENCE_AZIMUTH_ANGLE_B8A': 284.513488730886, 'RADIO_ADD_OFFSET_B10': -1000, 'MEAN_SOLAR_AZIMUTH_ANGLE': 156.011983549842, 'system:footprint': {'type': 'LinearRing', 'coordinates': [[20.99958499475833, 49.65273403837692], [20.999583976028518, 49.652722839177905], [20.99959211465339, 48.66521129907199], [20.99964755210931, 48.66516988025154], [20.99969457351541, 48.66512414623001], [20.99971692696618, 48.66512133035162], [22.490400771805255, 48.65547875386844], [22.490464608967986, 48.65551450139226], [22.490534726511957, 48.65554469363205], [22.49053945100474, 48.65555941834387], [22.50529438600682, 49.14917584644528], [22.520457653977417, 49.642738918304836], [22.520402491207495, 49.642781088210604], [22.520355906557757, 49.64282740123727], [22.520333153394883, 49.642830500021454], [20.999722954473345, 49.652812797675296], [20.999658919548782, 49.65277626526334], [20.99958828913755, 49.652745132055344], [20.99958499475833, 49.65273403837692]]}, 'SOLAR_IRRADIANCE_B12': 85.25, 'SOLAR_IRRADIANCE_B10': 367.15, 'SENSOR_QUALITY': 'PASSED', 'SOLAR_IRRADIANCE_B11': 245.59, 'GENERATION_TIME': 1722080516000, 'RADIO_ADD_OFFSET_B12': -1000, 'RADIO_ADD_OFFSET_B11': -1000, 'SOLAR_IRRADIANCE_B8A': 955.32, 'FORMAT_CORRECTNESS': 'PASSED', 'CLOUD_COVERAGE_ASSESSMENT': 0.046194272746, 'system:time_end': 1722073616438, 'SNOW_PIXEL_PERCENTAGE': 0, 'system:time_start': 1722073616438, 'RADIO_ADD_OFFSET_B1': -1000, 'RADIO_ADD_OFFSET_B2': -1000, 'DATASTRIP_ID': 'S2A_OPER_MSI_L1C_DS_2APS_20240727T114156_S20240727T094033_N05.11', 'RADIO_ADD_OFFSET_B3': -1000, 'RADIO_ADD_OFFSET_B4': -1000, 'RADIO_ADD_OFFSET_B5': -1000, 'PROCESSING_BASELINE': '05.11', 'SENSING_ORBIT_NUMBER': 36, 'RADIO_ADD_OFFSET_B6': -1000, 'RADIO_ADD_OFFSET_B7': -1000, 'SENSING_ORBIT_DIRECTION': 'DESCENDING', 'GENERAL_QUALITY': 'PASSED', 'GRANULE_ID': 'L1C_T34UEV_A047509_20240727T094033', 'REFLECTANCE_CONVERSION_CORRECTION': 0.969038498070894, 'MEAN_INCIDENCE_AZIMUTH_ANGLE_B8': 284.251178498374, 'DATATAKE_TYPE': 'INS-NOBS', 'MEAN_INCIDENCE_AZIMUTH_ANGLE_B9': 284.604784358782, 'MEAN_INCIDENCE_AZIMUTH_ANGLE_B6': 284.36953522961, 'MEAN_INCIDENCE_AZIMUTH_ANGLE_B7': 284.429347180314, 'MEAN_INCIDENCE_AZIMUTH_ANGLE_B4': 284.268273278529, 'MEAN_INCIDENCE_ZENITH_ANGLE_B1': 5.95749507301471, 'RADIO_ADD_OFFSET_B8': -1000, 'MEAN_INCIDENCE_AZIMUTH_ANGLE_B5': 284.300939328895, 'RADIOMETRIC_QUALITY': 'PASSED', 'RADIO_ADD_OFFSET_B9': -1000, 'MEAN_INCIDENCE_AZIMUTH_ANGLE_B2': 284.314597795613, 'MEAN_INCIDENCE_AZIMUTH_ANGLE_B3': 284.229886868701, 'MEAN_INCIDENCE_ZENITH_ANGLE_B5': 5.7725977518214, 'MEAN_INCIDENCE_AZIMUTH_ANGLE_B1': 284.520601817062, 'MEAN_INCIDENCE_ZENITH_ANGLE_B4': 5.73517938944152, 'MEAN_INCIDENCE_ZENITH_ANGLE_B3': 5.67646854880574, 'MEAN_INCIDENCE_ZENITH_ANGLE_B2': 5.6247214247259, 'MEAN_INCIDENCE_ZENITH_ANGLE_B9': 6.01283577291581, 'MEAN_INCIDENCE_ZENITH_ANGLE_B8': 5.65028990698401, 'MEAN_INCIDENCE_ZENITH_ANGLE_B7': 5.85807984635187, 'MEAN_INCIDENCE_ZENITH_ANGLE_B6': 5.81349739372685, 'MEAN_SOLAR_ZENITH_ANGLE': 31.9088202266542, 'MEAN_INCIDENCE_ZENITH_ANGLE_B8A': 5.90578635341265, 'MGRS_TILE': '34UEV', 'CLOUDY_PIXEL_PERCENTAGE': 0.0461942727462749, 'PRODUCT_ID': 'S2A_MSIL1C_20240727T094031_N0511_R036_T34UEV_20240727T114156', 'MEAN_INCIDENCE_ZENITH_ANGLE_B10': 5.70606993297585, 'SOLAR_IRRADIANCE_B9': 812.92, 'DEGRADED_MSI_DATA_PERCENTAGE': 0.022, 'MEAN_INCIDENCE_ZENITH_ANGLE_B11': 5.79649838059497, 'MEAN_INCIDENCE_ZENITH_ANGLE_B12': 5.90358467973456, 'SOLAR_IRRADIANCE_B6': 1287.61, 'MEAN_INCIDENCE_AZIMUTH_ANGLE_B10': 284.162419303037, 'SOLAR_IRRADIANCE_B5': 1424.64, 'MEAN_INCIDENCE_AZIMUTH_ANGLE_B11': 284.298132489816, 'SOLAR_IRRADIANCE_B8': 1041.63, 'MEAN_INCIDENCE_AZIMUTH_ANGLE_B12': 284.482698499725, 'SOLAR_IRRADIANCE_B7': 1162.08, 'SOLAR_IRRADIANCE_B2': 1959.66, 'SOLAR_IRRADIANCE_B1': 1884.69, 'SOLAR_IRRADIANCE_B4': 1512.06, 'GEOMETRIC_QUALITY': 'PASSED', 'SOLAR_IRRADIANCE_B3': 1823.24, 'system:asset_size': 1241962328, 'system:index': '20240727T094031_20240727T094033_T34UEV'}}\n"
     ]
    }
   ],
   "source": [
    "# Extract metadata\n",
    "# TODO: Retrieve and display image metadata\n",
    "print(metadata)"
   ]
  },
  {
   "cell_type": "markdown",
   "id": "d5113faa",
   "metadata": {},
   "source": [
    "## Task 5: Visualize Image\n",
    "Create a map and visualize the Sentinel-2 image using different visualization parameters (e.g., true color, false color)."
   ]
  },
  {
   "cell_type": "code",
   "execution_count": null,
   "id": "ffe9a4f2",
   "metadata": {},
   "outputs": [
    {
     "data": {
      "text/html": [
       "\n",
       "            <style>\n",
       "                .geemap-dark {\n",
       "                    --jp-widgets-color: white;\n",
       "                    --jp-widgets-label-color: white;\n",
       "                    --jp-ui-font-color1: white;\n",
       "                    --jp-layout-color2: #454545;\n",
       "                    background-color: #383838;\n",
       "                }\n",
       "\n",
       "                .geemap-dark .jupyter-button {\n",
       "                    --jp-layout-color3: #383838;\n",
       "                }\n",
       "\n",
       "                .geemap-colab {\n",
       "                    background-color: var(--colab-primary-surface-color, white);\n",
       "                }\n",
       "\n",
       "                .geemap-colab .jupyter-button {\n",
       "                    --jp-layout-color3: var(--colab-primary-surface-color, white);\n",
       "                }\n",
       "            </style>\n",
       "            "
      ],
      "text/plain": [
       "<IPython.core.display.HTML object>"
      ]
     },
     "metadata": {},
     "output_type": "display_data"
    },
    {
     "data": {
      "application/vnd.jupyter.widget-view+json": {
       "model_id": "bd00fadf21d040cabb44aee38f6f80d8",
       "version_major": 2,
       "version_minor": 0
      },
      "text/plain": [
       "Map(center=[0, 0], controls=(WidgetControl(options=['position', 'transparent_bg'], widget=SearchDataGUI(childr…"
      ]
     },
     "execution_count": 22,
     "metadata": {},
     "output_type": "execute_result"
    }
   ],
   "source": [
    "# Visualization\n",
    "# TODO: Create visualization layers using true color and false color compositions\n",
    "# Example parameters provided below:\n",
    "true_color_params = {'bands': ['B4', 'B3', 'B2'], 'min': 0, 'max': 3000}\n",
    "#false_color_params = {'bands': ['B8', 'B4', 'B3'], 'min': 0, 'max': 5000}\n",
    "\n",
    "import geemap\n",
    "\n",
    "# Initialize the map\n",
    "Map = geemap.Map()\n",
    "\n",
    "# TODO: Add these layers to an interactive map\n",
    "\n",
    "Map.addLayer(image, true_color_params, \"First image\")\n",
    "Map.centerObject(image)\n",
    "Map"
   ]
  },
  {
   "cell_type": "markdown",
   "id": "cfc58f9d",
   "metadata": {},
   "source": [
    "## Submission\n",
    "Save your completed notebook and submit it to your course repository."
   ]
  }
 ],
 "metadata": {
  "kernelspec": {
   "display_name": "Python 3",
   "language": "python",
   "name": "python3"
  },
  "language_info": {
   "codemirror_mode": {
    "name": "ipython",
    "version": 3
   },
   "file_extension": ".py",
   "mimetype": "text/x-python",
   "name": "python",
   "nbconvert_exporter": "python",
   "pygments_lexer": "ipython3",
   "version": "3.9.21"
  }
 },
 "nbformat": 4,
 "nbformat_minor": 2
}
